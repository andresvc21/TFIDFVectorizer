{
  "nbformat": 4,
  "nbformat_minor": 0,
  "metadata": {
    "colab": {
      "name": " TfidfVectorizer class VS TfidfTransformer class.ipynb",
      "provenance": [],
      "authorship_tag": "ABX9TyMxWkOWCCSILWqcPEWbt7Cy",
      "include_colab_link": true
    },
    "kernelspec": {
      "name": "python3",
      "display_name": "Python 3"
    },
    "language_info": {
      "name": "python"
    }
  },
  "cells": [
    {
      "cell_type": "markdown",
      "metadata": {
        "id": "view-in-github",
        "colab_type": "text"
      },
      "source": [
        "<a href=\"https://colab.research.google.com/github/andresvc21/TFIDFVectorizer/blob/main/TfidfVectorizer_class_VS_TfidfTransformer_class.ipynb\" target=\"_parent\"><img src=\"https://colab.research.google.com/assets/colab-badge.svg\" alt=\"Open In Colab\"/></a>"
      ]
    },
    {
      "cell_type": "markdown",
      "source": [
        "What is TF-IDF\n",
        "\n",
        "TF-IDF stands for Term Frequency — Inverse Document Frequency and is a statistic that aims to better define how important a word is for a document, while also taking into account the relation to other documents from the same corpus.\n",
        "\n",
        "This is performed by looking at how many times a word appears into a document while also paying attention to how many times the same word appears in other documents in the corpus."
      ],
      "metadata": {
        "id": "GGAElbDR1e2T"
      }
    },
    {
      "cell_type": "code",
      "execution_count": 7,
      "metadata": {
        "id": "WmMfLUq61KXv"
      },
      "outputs": [],
      "source": [
        "import pandas as pd\n",
        "from sklearn.feature_extraction.text import TfidfTransformer\n",
        "from sklearn.feature_extraction.text import CountVectorizer\n",
        "from sklearn.feature_extraction.text import TfidfVectorizer\n",
        "dataset = [\n",
        "    \"I enjoy reading about Machine Learning and Machine Learning is my PhD subject\",\n",
        "    \"I would enjoy a walk in the park\",\n",
        "    \"I was reading in the library\"\n",
        "]"
      ]
    },
    {
      "cell_type": "code",
      "source": [
        "tfIdfVectorizer=TfidfVectorizer(use_idf=True)\n",
        "tfIdf = tfIdfVectorizer.fit_transform(dataset)\n",
        "df = pd.DataFrame(tfIdf[0].T.todense(), index=tfIdfVectorizer.get_feature_names(), columns=[\"TF-IDF\"])\n",
        "df = df.sort_values('TF-IDF', ascending=False)\n",
        "print (df.head(25))"
      ],
      "metadata": {
        "colab": {
          "base_uri": "https://localhost:8080/"
        },
        "id": "9EO046kp1-Xv",
        "outputId": "3e35016c-fcb9-40a8-ddd3-607cb1b4b577"
      },
      "execution_count": 4,
      "outputs": [
        {
          "output_type": "stream",
          "name": "stdout",
          "text": [
            "            TF-IDF\n",
            "machine   0.513720\n",
            "learning  0.513720\n",
            "about     0.256860\n",
            "subject   0.256860\n",
            "phd       0.256860\n",
            "and       0.256860\n",
            "my        0.256860\n",
            "is        0.256860\n",
            "reading   0.195349\n",
            "enjoy     0.195349\n",
            "library   0.000000\n",
            "park      0.000000\n",
            "in        0.000000\n",
            "the       0.000000\n",
            "walk      0.000000\n",
            "was       0.000000\n",
            "would     0.000000\n"
          ]
        },
        {
          "output_type": "stream",
          "name": "stderr",
          "text": [
            "/usr/local/lib/python3.7/dist-packages/sklearn/utils/deprecation.py:87: FutureWarning: Function get_feature_names is deprecated; get_feature_names is deprecated in 1.0 and will be removed in 1.2. Please use get_feature_names_out instead.\n",
            "  warnings.warn(msg, category=FutureWarning)\n"
          ]
        }
      ]
    },
    {
      "cell_type": "code",
      "source": [
        "print(tfIdf)"
      ],
      "metadata": {
        "colab": {
          "base_uri": "https://localhost:8080/"
        },
        "id": "eL6PJJps2Kam",
        "outputId": "6b623319-4729-4acd-83f6-7899d0de959c"
      },
      "execution_count": 5,
      "outputs": [
        {
          "output_type": "stream",
          "name": "stdout",
          "text": [
            "  (0, 12)\t0.25685986835328034\n",
            "  (0, 10)\t0.25685986835328034\n",
            "  (0, 8)\t0.25685986835328034\n",
            "  (0, 4)\t0.25685986835328034\n",
            "  (0, 1)\t0.25685986835328034\n",
            "  (0, 5)\t0.5137197367065607\n",
            "  (0, 7)\t0.5137197367065607\n",
            "  (0, 0)\t0.25685986835328034\n",
            "  (0, 11)\t0.19534855056218978\n",
            "  (0, 2)\t0.19534855056218978\n",
            "  (1, 9)\t0.45954803293870056\n",
            "  (1, 13)\t0.3494981241087058\n",
            "  (1, 3)\t0.3494981241087058\n",
            "  (1, 14)\t0.45954803293870056\n",
            "  (1, 16)\t0.45954803293870056\n",
            "  (1, 2)\t0.3494981241087058\n",
            "  (2, 6)\t0.5174199439321682\n",
            "  (2, 15)\t0.5174199439321682\n",
            "  (2, 13)\t0.39351120409397233\n",
            "  (2, 3)\t0.39351120409397233\n",
            "  (2, 11)\t0.39351120409397233\n"
          ]
        }
      ]
    },
    {
      "cell_type": "code",
      "source": [
        "tfIdfTransformer = TfidfTransformer(use_idf=True)\n",
        "countVectorizer = CountVectorizer()\n",
        "wordCount = countVectorizer.fit_transform(dataset)\n",
        "newTfIdf = tfIdfTransformer.fit_transform(wordCount)\n",
        "df = pd.DataFrame(newTfIdf[0].T.todense(), index=countVectorizer.get_feature_names(), columns=[\"TF-IDF\"])\n",
        "df = df.sort_values('TF-IDF', ascending=False)\n",
        "print (df.head(25))"
      ],
      "metadata": {
        "colab": {
          "base_uri": "https://localhost:8080/"
        },
        "id": "bT1D_9nK2a9P",
        "outputId": "8b2ae7c0-e821-4126-bd2b-b81511ba8185"
      },
      "execution_count": 8,
      "outputs": [
        {
          "output_type": "stream",
          "name": "stdout",
          "text": [
            "            TF-IDF\n",
            "machine   0.513720\n",
            "learning  0.513720\n",
            "about     0.256860\n",
            "subject   0.256860\n",
            "phd       0.256860\n",
            "and       0.256860\n",
            "my        0.256860\n",
            "is        0.256860\n",
            "reading   0.195349\n",
            "enjoy     0.195349\n",
            "library   0.000000\n",
            "park      0.000000\n",
            "in        0.000000\n",
            "the       0.000000\n",
            "walk      0.000000\n",
            "was       0.000000\n",
            "would     0.000000\n"
          ]
        },
        {
          "output_type": "stream",
          "name": "stderr",
          "text": [
            "/usr/local/lib/python3.7/dist-packages/sklearn/utils/deprecation.py:87: FutureWarning: Function get_feature_names is deprecated; get_feature_names is deprecated in 1.0 and will be removed in 1.2. Please use get_feature_names_out instead.\n",
            "  warnings.warn(msg, category=FutureWarning)\n"
          ]
        }
      ]
    },
    {
      "cell_type": "markdown",
      "source": [
        "From: \n",
        "\n",
        "https://towardsdatascience.com/tf-idf-explained-and-python-sklearn-implementation-b020c5e83275\n"
      ],
      "metadata": {
        "id": "O9WjBQ9L2nKT"
      }
    }
  ]
}