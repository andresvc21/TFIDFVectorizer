{
  "nbformat": 4,
  "nbformat_minor": 0,
  "metadata": {
    "colab": {
      "name": "Fake_News_Detector.ipynb",
      "provenance": [],
      "authorship_tag": "ABX9TyPpXWhpggu5diz/P8tFLOqI",
      "include_colab_link": true
    },
    "kernelspec": {
      "name": "python3",
      "display_name": "Python 3"
    },
    "language_info": {
      "name": "python"
    }
  },
  "cells": [
    {
      "cell_type": "markdown",
      "metadata": {
        "id": "view-in-github",
        "colab_type": "text"
      },
      "source": [
        "<a href=\"https://colab.research.google.com/github/andresvc21/TFIDFVectorizer/blob/main/Fake_News_Detector.ipynb\" target=\"_parent\"><img src=\"https://colab.research.google.com/assets/colab-badge.svg\" alt=\"Open In Colab\"/></a>"
      ]
    },
    {
      "cell_type": "markdown",
      "source": [
        "#Fake News Detector"
      ],
      "metadata": {
        "id": "nc9E-lS5ksz5"
      }
    },
    {
      "cell_type": "markdown",
      "source": [
        "Data:\n",
        "\n",
        "id: unique id for a news article\n",
        "\n",
        "title: the title of a news article\n",
        "\n",
        "author: author of the news article\n",
        "\n",
        "text: the text of the article; could be incomplete\n",
        "\n",
        "label: a label that marks the article as potentially unreliable\n",
        "        1: unreliable\n",
        "        0: reliable"
      ],
      "metadata": {
        "id": "uHT6iQfDkyWW"
      }
    },
    {
      "cell_type": "markdown",
      "source": [
        "## Preview"
      ],
      "metadata": {
        "id": "7YtEfYAknRsf"
      }
    },
    {
      "cell_type": "code",
      "execution_count": 1,
      "metadata": {
        "id": "xLOoewRsknNc"
      },
      "outputs": [],
      "source": [
        "#Import Packages\n",
        "\n",
        "import numpy as np\n",
        "import pandas as pd\n",
        "import itertools\n",
        "import seaborn as sn\n",
        "import pandas as pd\n",
        "import matplotlib.pyplot as plt\n",
        "from sklearn.model_selection import train_test_split\n",
        "from sklearn.feature_extraction.text import TfidfVectorizer\n",
        "from sklearn.linear_model import PassiveAggressiveClassifier\n",
        "from sklearn.metrics import accuracy_score, confusion_matrix, classification_report\n",
        "pd.set_option('display.max_columns', 500)"
      ]
    },
    {
      "cell_type": "code",
      "source": [
        "#Load Dataset\n",
        "train = pd.read_csv('train.csv')\n",
        "test = pd.read_csv('test.csv')\n",
        "test = test.set_index('id', drop = True)"
      ],
      "metadata": {
        "id": "OhfEMGlbli_-"
      },
      "execution_count": 2,
      "outputs": []
    },
    {
      "cell_type": "markdown",
      "source": [
        "## Exploratory Analysis and Preparation"
      ],
      "metadata": {
        "id": "zbdJh-CQnWM2"
      }
    },
    {
      "cell_type": "code",
      "source": [
        "# Counting number of rows and columns in the data\n",
        "print('---------------------------------------------------------')\n",
        "print('Shape of Training Data: ', train.shape)\n",
        "print('---------------------------------------------------------')\n",
        "\n",
        "# Gettiing a hang of the data in each column and their names\n",
        "print('---------------------------------------------------------')\n",
        "print('\\n \\n TRAIN \\n', train.head())\n",
        "print('---------------------------------------------------------')\n",
        "print('\\n \\n TEST \\n', test.head())\n",
        "print('---------------------------------------------------------')\n",
        "\n",
        "# Looking for any places where training data has NaN values\n",
        "print('---------------------------------------------------------')\n",
        "print('\\n \\nNumber of Null values in Train Set: ', train['text'].isna().sum())\n",
        "print('---------------------------------------------------------')\n",
        "print('Number of Null values in Test Set: ', test['text'].isna().sum())\n",
        "print('---------------------------------------------------------')\n",
        "\n"
      ],
      "metadata": {
        "colab": {
          "base_uri": "https://localhost:8080/"
        },
        "id": "A8alOz72mTPH",
        "outputId": "d930f94b-7c77-4480-c904-067f312af831"
      },
      "execution_count": 3,
      "outputs": [
        {
          "output_type": "stream",
          "name": "stdout",
          "text": [
            "---------------------------------------------------------\n",
            "Shape of Training Data:  (20800, 5)\n",
            "---------------------------------------------------------\n",
            "---------------------------------------------------------\n",
            "\n",
            " \n",
            " TRAIN \n",
            "    id                                              title              author  \\\n",
            "0   0  House Dem Aide: We Didn’t Even See Comey’s Let...       Darrell Lucus   \n",
            "1   1  FLYNN: Hillary Clinton, Big Woman on Campus - ...     Daniel J. Flynn   \n",
            "2   2                  Why the Truth Might Get You Fired  Consortiumnews.com   \n",
            "3   3  15 Civilians Killed In Single US Airstrike Hav...     Jessica Purkiss   \n",
            "4   4  Iranian woman jailed for fictional unpublished...      Howard Portnoy   \n",
            "\n",
            "                                                text  label  \n",
            "0  House Dem Aide: We Didn’t Even See Comey’s Let...      1  \n",
            "1  Ever get the feeling your life circles the rou...      0  \n",
            "2  Why the Truth Might Get You Fired October 29, ...      1  \n",
            "3  Videos 15 Civilians Killed In Single US Airstr...      1  \n",
            "4  Print \\nAn Iranian woman has been sentenced to...      1  \n",
            "---------------------------------------------------------\n",
            "\n",
            " \n",
            " TEST \n",
            "                                                    title  \\\n",
            "id                                                         \n",
            "20800  Specter of Trump Loosens Tongues, if Not Purse...   \n",
            "20801  Russian warships ready to strike terrorists ne...   \n",
            "20802  #NoDAPL: Native American Leaders Vow to Stay A...   \n",
            "20803  Tim Tebow Will Attempt Another Comeback, This ...   \n",
            "20804                    Keiser Report: Meme Wars (E995)   \n",
            "\n",
            "                        author  \\\n",
            "id                               \n",
            "20800         David Streitfeld   \n",
            "20801                      NaN   \n",
            "20802            Common Dreams   \n",
            "20803            Daniel Victor   \n",
            "20804  Truth Broadcast Network   \n",
            "\n",
            "                                                    text  \n",
            "id                                                        \n",
            "20800  PALO ALTO, Calif.  —   After years of scorning...  \n",
            "20801  Russian warships ready to strike terrorists ne...  \n",
            "20802  Videos #NoDAPL: Native American Leaders Vow to...  \n",
            "20803  If at first you don’t succeed, try a different...  \n",
            "20804  42 mins ago 1 Views 0 Comments 0 Likes 'For th...  \n",
            "---------------------------------------------------------\n",
            "---------------------------------------------------------\n",
            "\n",
            " \n",
            "Number of Null values in Train Set:  39\n",
            "---------------------------------------------------------\n",
            "Number of Null values in Test Set:  7\n",
            "---------------------------------------------------------\n"
          ]
        }
      ]
    },
    {
      "cell_type": "code",
      "source": [
        "# Dropping all rows where text column is NaN\n",
        "# Drop the rows where the column ‘text’ has null values, and fill a blank space in other columns with null values.\n",
        "train.dropna(axis=0, how=\"any\", thresh=None, subset=['text'], inplace=True)\n",
        "test = test.fillna(' ')"
      ],
      "metadata": {
        "id": "4NwkcA1Lmlys"
      },
      "execution_count": 4,
      "outputs": []
    },
    {
      "cell_type": "code",
      "source": [
        "# Checking length of each article\n",
        "length = []\n",
        "[length.append(len(str(text))) for text in train['text']]\n",
        "train['length'] = length\n",
        "print('Minimum Length: ', min(train['length']), '\\nMaximum Length: ', max(train['length']), '\\nAverage Length: ', round(sum(train['length'])/len(train['length'])))"
      ],
      "metadata": {
        "colab": {
          "base_uri": "https://localhost:8080/"
        },
        "id": "7gxABs3Vna0u",
        "outputId": "097554a1-11f1-451d-cee1-aecc027de1bf"
      },
      "execution_count": 5,
      "outputs": [
        {
          "output_type": "stream",
          "name": "stdout",
          "text": [
            "Minimum Length:  1 \n",
            "Maximum Length:  142961 \n",
            "Average Length:  4553\n"
          ]
        }
      ]
    },
    {
      "cell_type": "code",
      "source": [
        "#Articles with one word seems to be an outlier. Let's explore further\n",
        "print('Number of articles with less than 50 words: ', len(train[train['length'] < 50]))\n",
        "# Skimming through such short texts just to be sure\n",
        "print(train['text'][train['length'] < 50])"
      ],
      "metadata": {
        "colab": {
          "base_uri": "https://localhost:8080/"
        },
        "id": "IYcr5awynswq",
        "outputId": "45ffd7dd-60e1-4665-f08d-d70ab98dce9c"
      },
      "execution_count": 6,
      "outputs": [
        {
          "output_type": "stream",
          "name": "stdout",
          "text": [
            "Number of articles with less than 50 words:  207\n",
            "82                                                   \n",
            "169                                                  \n",
            "173                                   Guest   Guest  \n",
            "196            They got the heater turned up on high.\n",
            "295                                                  \n",
            "                             ...                     \n",
            "20350                         I hope nobody got hurt!\n",
            "20418                                 Guest   Guest  \n",
            "20431    \\nOctober 28, 2016 The Mothers by stclair by\n",
            "20513                                                \n",
            "20636                              Trump all the way!\n",
            "Name: text, Length: 207, dtype: object\n"
          ]
        }
      ]
    },
    {
      "cell_type": "code",
      "source": [
        "#207 articles with BS or empty statements. Lets now remove such articles from tje dataset \n",
        "train = train.drop(train['text'][train['length'] < 50].index, axis = 0)\n",
        "print('Minimum Length: ', min(train['length']), '\\nMaximum Length: ', max(train['length']), '\\nAverage Length: ', round(sum(train['length'])/len(train['length'])))"
      ],
      "metadata": {
        "colab": {
          "base_uri": "https://localhost:8080/"
        },
        "id": "buHpRtVrn9gE",
        "outputId": "30c5afef-cace-49cd-ddd2-60a3f309a158"
      },
      "execution_count": 7,
      "outputs": [
        {
          "output_type": "stream",
          "name": "stdout",
          "text": [
            "Minimum Length:  50 \n",
            "Maximum Length:  142961 \n",
            "Average Length:  4598\n"
          ]
        }
      ]
    },
    {
      "cell_type": "code",
      "source": [
        "# Secluding labels in a new pandas dataframe for supervised learning\n",
        "train_labels = train['label']\n",
        "\n",
        "# Splitting data into training and testing sets\n",
        "x_train, x_test, y_train, y_test = train_test_split(train['text'], train_labels, test_size=0.2, random_state=420)"
      ],
      "metadata": {
        "id": "b-PMDSDXx873"
      },
      "execution_count": 12,
      "outputs": []
    },
    {
      "cell_type": "markdown",
      "source": [
        "##TfIdfVectorizer"
      ],
      "metadata": {
        "id": "lmYumfgzyMQe"
      }
    },
    {
      "cell_type": "code",
      "source": [
        "# Setting up Term Frequency - Inverse Document Frequency Vectorizer\n",
        "tfidf = TfidfVectorizer(stop_words = 'english', max_df = 0.7)\n",
        "\n",
        "# Fit and transform training set and transform test set. See https://towardsdatascience.com/fit-vs-transform-in-scikit-libraries-for-machine-learning-3c70e6300ded \n",
        "tfidf_train = tfidf.fit_transform(x_train) \n",
        "tfidf_test = tfidf.transform(x_test)\n",
        "tfidf_test_final = tfidf.transform(test['text'])"
      ],
      "metadata": {
        "id": "4RjpIz_2yNac"
      },
      "execution_count": 13,
      "outputs": []
    },
    {
      "cell_type": "markdown",
      "source": [
        "##PassiveAggressiveClassifier"
      ],
      "metadata": {
        "id": "cTsSCVGpBJ24"
      }
    },
    {
      "cell_type": "code",
      "source": [
        "# Setting up Passive Aggressive Classifier\n",
        "pac = PassiveAggressiveClassifier(max_iter = 50)\n",
        "# Fitting on the training set\n",
        "pac.fit(tfidf_train, y_train)\n",
        "# Predicting on the test set\n",
        "y_pred = pac.predict(tfidf_test)\n",
        "score = accuracy_score(y_test, y_pred)\n",
        "print(f'Accuracy: {round(score * 100, 2)}%')"
      ],
      "metadata": {
        "colab": {
          "base_uri": "https://localhost:8080/"
        },
        "id": "aGJC9RMPBLwI",
        "outputId": "c1f955bf-6da3-4743-8cae-6b6392bf7908"
      },
      "execution_count": 14,
      "outputs": [
        {
          "output_type": "stream",
          "name": "stdout",
          "text": [
            "Accuracy: 96.69%\n"
          ]
        }
      ]
    },
    {
      "cell_type": "code",
      "source": [
        "# Creating confusion matrix with columns as True Positive, False Negative, False Positive and True Negative \n",
        "cm = confusion_matrix(y_test, y_pred, labels=[0, 1])\n",
        "df_cm = pd.DataFrame(cm, range(2), range(2))\n",
        "sn.set(font_scale=1)\n",
        "sn.heatmap(df_cm, annot=True, annot_kws={'size':14}, fmt='d').set_title('Confusion Matrix')\n",
        "plt.show()\n",
        "# Creating classification report\n",
        "print('\\nClassification Report: \\n', classification_report(y_test, (y_pred > 0.5)))"
      ],
      "metadata": {
        "colab": {
          "base_uri": "https://localhost:8080/",
          "height": 475
        },
        "id": "YnQS_2WIBTBC",
        "outputId": "b552e9d9-777f-4c25-99ea-8e11e341c7ff"
      },
      "execution_count": 15,
      "outputs": [
        {
          "output_type": "display_data",
          "data": {
            "image/png": "[encoded data removed]",
            "text/plain": [
              "<Figure size 432x288 with 2 Axes>"
            ]
          },
          "metadata": {}
        },
        {
          "output_type": "stream",
          "name": "stdout",
          "text": [
            "\n",
            "Classification Report: \n",
            "               precision    recall  f1-score   support\n",
            "\n",
            "           0       0.97      0.96      0.97      2085\n",
            "           1       0.96      0.97      0.97      2026\n",
            "\n",
            "    accuracy                           0.97      4111\n",
            "   macro avg       0.97      0.97      0.97      4111\n",
            "weighted avg       0.97      0.97      0.97      4111\n",
            "\n"
          ]
        }
      ]
    },
    {
      "cell_type": "markdown",
      "source": [
        "We got 2009 articles correctly identified as fake and 1966 correctly identified as real. When doing such a classification, it is important to check that we limit the number of false positives as they can cause facts to be marked as fake."
      ],
      "metadata": {
        "id": "Y-RuyDVRBbT2"
      }
    },
    {
      "cell_type": "markdown",
      "source": [
        "Source [Fake News Detection](https://medium.com/analytics-vidhya/fake-news-detector-cbc47b085d4)"
      ],
      "metadata": {
        "id": "w8d_GhZ0EZwp"
      }
    }
  ]
}